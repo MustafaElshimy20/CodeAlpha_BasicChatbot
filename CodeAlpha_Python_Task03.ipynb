{
 "cells": [
  {
   "cell_type": "code",
   "execution_count": 1,
   "id": "61521401",
   "metadata": {},
   "outputs": [
    {
     "name": "stdout",
     "output_type": "stream",
     "text": [
      "Hi! I'm your chatbot. Let's chat! (type 'quit' to exit)\n",
      ">my name is mostafa\n",
      "Hello mostafa, how can I help you today?\n",
      ">what is your name?\n",
      "My name is Chatbot.\n",
      ">sorry chatbot\n",
      "No problem at all!\n",
      ">quit\n",
      "Goodbye! It was nice talking to you.\n"
     ]
    }
   ],
   "source": [
    "import nltk\n",
    "from nltk.chat.util import Chat, reflections\n",
    "\n",
    "# Define pairs of patterns and responses\n",
    "pairs = [\n",
    "    [\n",
    "        r\"my name is (.*)\",\n",
    "        [\"Hello %1, how can I help you today?\",]\n",
    "    ],\n",
    "    [\n",
    "        r\"what is your name?\",\n",
    "        [\"My name is Chatbot.\",]\n",
    "    ],\n",
    "    [\n",
    "        r\"how are you?\",\n",
    "        [\"I'm doing well, thank you!\",]\n",
    "    ],\n",
    "    [\n",
    "        r\"sorry (.*)\",\n",
    "        [\"No problem at all!\",]\n",
    "    ],\n",
    "    [\n",
    "        r\"quit\",\n",
    "        [\"Goodbye! It was nice talking to you.\",]\n",
    "    ],\n",
    "]\n",
    "\n",
    "# Create a chatbot instance\n",
    "chatbot = Chat(pairs, reflections)\n",
    "\n",
    "# Start the conversation\n",
    "def start_chat():\n",
    "    print(\"Hi! I'm your chatbot. Let's chat! (type 'quit' to exit)\")\n",
    "    chatbot.converse()\n",
    "\n",
    "start_chat()\n"
   ]
  },
  {
   "cell_type": "code",
   "execution_count": null,
   "id": "b71a34db",
   "metadata": {},
   "outputs": [],
   "source": []
  }
 ],
 "metadata": {
  "kernelspec": {
   "display_name": "Python 3 (ipykernel)",
   "language": "python",
   "name": "python3"
  },
  "language_info": {
   "codemirror_mode": {
    "name": "ipython",
    "version": 3
   },
   "file_extension": ".py",
   "mimetype": "text/x-python",
   "name": "python",
   "nbconvert_exporter": "python",
   "pygments_lexer": "ipython3",
   "version": "3.11.5"
  }
 },
 "nbformat": 4,
 "nbformat_minor": 5
}
